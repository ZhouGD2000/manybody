{
 "cells": [
  {
   "cell_type": "code",
   "execution_count": 1,
   "metadata": {},
   "outputs": [],
   "source": [
    "import numpy as np\n",
    "from matplotlib import pyplot as plt\n",
    "#import random\n",
    "from numpy import random\n",
    "from numpy import pi"
   ]
  },
  {
   "cell_type": "code",
   "execution_count": 2,
   "metadata": {},
   "outputs": [],
   "source": [
    "phiH=np.array([[0.3425250914E+01,0.1543289673E+00],[0.6239137298E+00, 0.5353281423E+00],[0.1688554040E+00,0.4446345422E+00]])\n",
    "phiHe=np.array([[0.6362421394E+01,0.1543289673E+00],[0.1158922999E+01,0.5353281423E+00],[0.3136497915E+00,0.4446345422E+00]])\n",
    "RH=[0,0,0]\n",
    "RHe=[1.4632,0,0]\n",
    "HeH=np.array([-0.20248149,\n",
    "        -0.87660401])\n",
    "H2=np.array([[0.53781331],\n",
    "        [0.53781331]])"
   ]
  },
  {
   "cell_type": "code",
   "execution_count": 3,
   "metadata": {},
   "outputs": [],
   "source": [
    "#shape of r :list of point, spartial index\n",
    "#shape of E : list of point\n",
    "def phiGF(a,r):\n",
    "    if np.ndim(r)==1:\n",
    "        return (2*a/pi)**(3/4)*np.exp(-a*np.linalg.norm(r)**2)\n",
    "    else:\n",
    "        aa=a.reshape((len(a),1))\n",
    "        rr=r.reshape((1,len(r),len(r[0])))\n",
    "        return (2*aa/pi)**(3/4)*np.exp(-aa*np.linalg.norm(rr,axis=-1)**2)\n",
    "\n",
    "def phiCGF(phi1,r1,R1):\n",
    "# r1: spartial index, R1: spartial index\n",
    "# phiCGF: scalar\n",
    "# d: basis index a:basis index\n",
    "    d=phi1[:,1]\n",
    "    a=phi1[:,0]\n",
    "    return np.dot(d,phiGF(a,r1-np.array(R1)))\n",
    "\n",
    "def Ei(r1,r2,Z,R):\n",
    "    E=0\n",
    "    for i in range(2):\n",
    "        E=E-Z[i]/np.linalg.norm(r1-R[i],axis=1)-Z[i]/np.linalg.norm(r2-R[i],axis=1)\n",
    "    return E\n",
    "\n",
    "def NablaphiCGF(phi1,r1,R1):\n",
    "    # return points\n",
    "    d=phi1[:,1]\n",
    "    a=phi1[:,0]\n",
    "    return np.dot(d,(3*a.reshape((len(a),1))-2*a.reshape((len(a),1))**2*\\\n",
    "                     np.reshape(np.linalg.norm(r1-R1,axis=-1)**2,(1,len(r1))))*phiGF(a,r1-R1))\n",
    "\n",
    "def Ek(r1,r2,C,phi,R):\n",
    "    #r points*spatial\n",
    "    Ekr=0\n",
    "    for i in range(len(C)):\n",
    "        Ekr+=C[i]*NablaphiCGF(phi[i],r1,R[i])/psi(r1,C,phi,R)+\\\n",
    "        C[i]*NablaphiCGF(phi[i],r2,R[i])/psi(r2,C,phi,R)\n",
    "        \n",
    "    return Ekr\n",
    "    \n",
    "def Eee(r1,r2):\n",
    "    return 1/np.linalg.norm(r1-r2,axis=1)\n",
    "\n",
    "# sample: dimension 1: list of point; dimension 2 : r1,r2 dimension 3: spatial coordinate\n",
    "def E(samples,C,phi,R,Z):\n",
    "    return Ei(samples[:,0,:],samples[:,1,:],Z,R)+\\\n",
    "Ek(samples[:,0,:],samples[:,1,:],C,phi,R)+Eee(samples[:,0,:],samples[:,1,:])+Z[0]*Z[1]/np.linalg.norm(np.array(R[0])-R[1])\n",
    "\n",
    "def totalEnergy(samples,C,phi,R,Z):\n",
    "    return np.average(E(samples,C,phi,R,Z))\n",
    "#+1/1.2\n",
    "\n"
   ]
  },
  {
   "cell_type": "code",
   "execution_count": 4,
   "metadata": {},
   "outputs": [],
   "source": [
    "\n",
    "#s dimension: 2*3\n",
    "def psi(r,C,phi,R):\n",
    "    psir=0\n",
    "    for i in range(len(C)):\n",
    "        psir+=C[i]*phiCGF(phi[i],r,R[i])\n",
    "    return psir\n",
    "\n",
    "def P(s,C,phi,R):\n",
    "    r1=s[0]\n",
    "    r2=s[1]\n",
    "    phir1=psi(r1,C,phi,R)\n",
    "    phir2=psi(r2,C,phi,R)\n",
    "    return np.conj(phir1)*phir1*np.conj(phir2)*phir2\n",
    "\n",
    "# shape of P: list of point\n",
    "\n",
    "###This sampling function only generate the sampling point but gives no energy\n",
    "def sampling(Npoints,C,phi,R):\n",
    "    width=1\n",
    "    s=random.uniform(width,-width,(2,3))\n",
    "    #if P(s)<1E-9:\n",
    "     #   s=random.uniform(width,-width)\n",
    "    sample=np.zeros((Npoints,2,3))\n",
    "    for i in range(Npoints):\n",
    "        news=s+random.uniform(-width,width,(2,3));\n",
    "        rnd=random.random()\n",
    "        if rnd<P(news,C,phi,R)/P(s,C,phi,R):\n",
    "            s=news\n",
    "        sample[i]=s\n",
    "    return sample\n",
    "            \n",
    "\n",
    "def display(sample,i,j):\n",
    "    # ℹ 表示第几个电子，j表示xyz\n",
    "    profile=np.array([x[i][j] for x in sample])\n",
    "    plt.hist(profile,bins=100)\n",
    "    plt.title(\"distribution\")\n",
    "    plt.show()\n"
   ]
  },
  {
   "cell_type": "code",
   "execution_count": 11,
   "metadata": {},
   "outputs": [],
   "source": [
    "def blockanaylis(EE):\n",
    "    Var=[]\n",
    "    Np=len(EE)\n",
    "    \n",
    "    #Nblist=[i for i in range(1,51) if Np%i==0]\n",
    "    #Nblist=[1000,2000,5000,10000,12500,20000,25000,40000,50000,62500,100000,125000,200000,250000,500000]\n",
    "    Nlist=[2,5,8,10,16,20,25,40,50,80,100,125,160,200,250,320,400,500,625,800,1000]\n",
    "    #Nlist=[len(EE)/i for i in Nblist]\n",
    "    Nblist=[len(EE)//i for i in Nlist]\n",
    "    for Nb in Nblist:\n",
    "        eblock=np.average(EE.reshape((Nb,Np//Nb)),axis=1)\n",
    "        Var.append(np.var(eblock)/Nb)\n",
    "    plt.plot(Nlist,Var,'.')\n",
    "    #plt.savefig(\"block.png\")\n",
    "    plt.show()\n",
    "    pass\n",
    "   "
   ]
  },
  {
   "cell_type": "code",
   "execution_count": 13,
   "metadata": {},
   "outputs": [
    {
     "name": "stdout",
     "output_type": "stream",
     "text": [
      "[500000, 200000, 125000, 100000, 62500, 50000, 40000, 25000, 20000, 12500, 10000, 8000, 6250, 5000, 4000, 3125, 2500, 2000, 1600, 1250, 1000]\n"
     ]
    }
   ],
   "source": [
    "Nlist=[2,5,8,10,16,20,25,40,50,80,100,125,160,200,250,320,400,500,625,800,1000]\n",
    "Nblist=[1000000//i for i in Nlist]\n",
    "print(Nblist)"
   ]
  },
  {
   "cell_type": "code",
   "execution_count": 14,
   "metadata": {},
   "outputs": [
    {
     "data": {
      "image/png": "[encoded data removed]",
      "text/plain": [
       "<Figure size 432x288 with 1 Axes>"
      ]
     },
     "metadata": {
      "needs_background": "light"
     },
     "output_type": "display_data"
    },
    {
     "name": "stdout",
     "output_type": "stream",
     "text": [
      "total energy= -1.1117708767645607\n"
     ]
    },
    {
     "data": {
      "image/png": "[encoded data removed]",
      "text/plain": [
       "<Figure size 432x288 with 1 Axes>"
      ]
     },
     "metadata": {
      "needs_background": "light"
     },
     "output_type": "display_data"
    },
    {
     "data": {
      "image/png": "[encoded data removed]",
      "text/plain": [
       "<Figure size 432x288 with 1 Axes>"
      ]
     },
     "metadata": {
      "needs_background": "light"
     },
     "output_type": "display_data"
    }
   ],
   "source": [
    "N=1000000\n",
    "Z0=[1,1]\n",
    "phi0=[phiH,phiH]\n",
    "R0=[RH,[1.2,0,0]]\n",
    "#sampling(N,H2,phi0,R0,Z0)\n",
    "s=sampling(N,H2,phi0,R0)\n",
    "display(s,0,0)\n",
    "print(\"total energy=\",totalEnergy(s,H2,phi0,R0,Z0))\n",
    "Ee=E(s,H2,phi0,R0,Z0)\n",
    "\n",
    "#### show energy by steps\n",
    "displaystep=1000\n",
    "Nmark=N//displaystep\n",
    "ea=np.zeros(Nmark)\n",
    "for i in range(1,Nmark):\n",
    "    ea[i]=np.average(Ee[0:i*displaystep])\n",
    "plt.plot(np.arange(Nmark)*displaystep,ea,label=\"VMC\")\n",
    "plt.plot(np.arange(Nmark)*displaystep,-1.110333882489139*np.ones(Nmark),'--',label=\"HF\")\n",
    "plt.xlabel(\"Step\")\n",
    "plt.ylabel(\"Energy\")\n",
    "plt.legend()\n",
    "#plt.savefig(\"step.png\")\n",
    "plt.show()\n",
    "\n",
    "blockanaylis(Ee)"
   ]
  },
  {
   "cell_type": "code",
   "execution_count": 19,
   "metadata": {},
   "outputs": [
    {
     "data": {
      "image/png": "[encoded data removed]",
      "text/plain": [
       "<Figure size 432x288 with 1 Axes>"
      ]
     },
     "metadata": {
      "needs_background": "light"
     },
     "output_type": "display_data"
    }
   ],
   "source": [
    "blockanaylis(Ee)"
   ]
  },
  {
   "cell_type": "markdown",
   "metadata": {},
   "source": [
    "\n",
    "\n",
    "\n",
    "\n",
    "\n",
    "\n",
    "\n",
    "\n",
    "\n",
    "\n",
    "\n",
    "\n",
    "\n",
    "\n",
    "\n",
    "\n",
    "\n",
    "\n",
    "\n",
    "\n",
    "\n",
    "\n",
    "\n",
    "\n",
    "\n",
    "\n",
    "\n",
    "\n",
    "\n",
    "\n",
    "\n",
    "\n",
    "\n",
    "\n",
    "\n",
    "\n"
   ]
  },
  {
   "cell_type": "markdown",
   "metadata": {},
   "source": [
    "此处蒙特卡罗算符的主要作用是作多电子的空间积分，在这里这一积分的优势并不显著，因为在我们使用了高斯波函数展开进行近似后积分结果是可以直接解析计算的。在上方利用metropolis算法进行迭代后，随着迭代次数增加，样本点的分布逐渐接近多体波函数的分布，能量也快速收敛到和HF方法求出来的值上，而由block anaylis的结果可以知道，求得的能量的标准差大概在$\\sqrt{10^{-5}\\sim10^{-6}}\\approx 10^{-3}$量级，VMC的结果和直接计算的结果的差别也落在这一个范围内。"
   ]
  }
 ],
 "metadata": {
  "kernelspec": {
   "display_name": "Python 3",
   "language": "python",
   "name": "python3"
  },
  "language_info": {
   "codemirror_mode": {
    "name": "ipython",
    "version": 3
   },
   "file_extension": ".py",
   "mimetype": "text/x-python",
   "name": "python",
   "nbconvert_exporter": "python",
   "pygments_lexer": "ipython3",
   "version": "3.7.2"
  }
 },
 "nbformat": 4,
 "nbformat_minor": 2
}
